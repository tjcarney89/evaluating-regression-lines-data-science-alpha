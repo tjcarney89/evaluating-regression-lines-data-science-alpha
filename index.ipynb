{
 "cells": [
  {
   "cell_type": "markdown",
   "metadata": {},
   "source": [
    "# Evaluating regression lines"
   ]
  },
  {
   "cell_type": "markdown",
   "metadata": {},
   "source": [
    "### Learning Objectives"
   ]
  },
  {
   "cell_type": "markdown",
   "metadata": {},
   "source": [
    "* Understand what is meant by the errors of a regression line\n",
    "* Understand how to calculate the error at a given point\n",
    "* Understand how to calculate RSS and why we use it as a metric to evaluate a regression line\n",
    "* Understand the difference between RSS and its variation, the RMSE"
   ]
  },
  {
   "cell_type": "markdown",
   "metadata": {},
   "source": [
    "### Introduction"
   ]
  },
  {
   "cell_type": "markdown",
   "metadata": {},
   "source": [
    "So far we have seen how lines and formulas can estimate outputs given an input.  We can describe any straight line with two different variables: \n",
    "\n",
    "* $m$ -  the slope of the line, and \n",
    "* $b$ - the y-intercept\n",
    "\n",
    "So far we have been rather fast and loose with choosing a line to estimate our output - we simply drew a line between the first and last points of our data set.  Well today, we go further.  Here, we take our first step towards **training** our model to match our data.\n",
    "\n",
    "> The first step in training is to calculate our regression line's **accuracy** --  that is, how well our regression line matches our actual data.  Calculating a regression line's accuracy is the topic of this lesson.\n",
    "\n",
    "In future lessons, we will improve upon our regression line's accuracy, so that it better predicts an output."
   ]
  },
  {
   "cell_type": "markdown",
   "metadata": {},
   "source": [
    "### Determining Quality"
   ]
  },
  {
   "cell_type": "markdown",
   "metadata": {},
   "source": [
    "The first step towards calculating a regression line to predict an output, is to calculate how well any regression line matches our data.  We need to calculate how accurate our regression line is.\n",
    "\n",
    "Let's find out what this means.  Below we have data that represents the budget and revenue of four shows, with `x` being the budget and `y` being the revenue."
   ]
  },
  {
   "cell_type": "code",
   "execution_count": 1,
   "metadata": {},
   "outputs": [
    {
     "data": {
      "text/plain": [
       "[{'x': 0, 'y': 100},\n",
       " {'x': 100, 'y': 150},\n",
       " {'x': 200, 'y': 600},\n",
       " {'x': 400, 'y': 700}]"
      ]
     },
     "execution_count": 1,
     "metadata": {},
     "output_type": "execute_result"
    }
   ],
   "source": [
    "first_show = {'x': 0, 'y': 100}\n",
    "second_show = {'x': 100, 'y': 150}\n",
    "third_show = {'x': 200, 'y': 600}\n",
    "fourth_show = {'x': 400, 'y': 700}\n",
    "\n",
    "shows = [first_show, second_show, third_show, fourth_show]\n",
    "shows"
   ]
  },
  {
   "cell_type": "markdown",
   "metadata": {},
   "source": [
    "> Run code above with shift + enter\n",
    "\n",
    "#### An initial regression line\n",
    "As we did in the last lab, let's draw a not-so-great regression line simply by drawing a line between our first and last points.  We can use our `build_regression_line` function to do so.  You can view the code directly [here](https://github.com/learn-co-curriculum/evaluating-regression-lines/blob/master/linear_equations.py).  \n",
    "> Eventually, we'll improve this regression line.  But first we need to see how good or bad a regression line is."
   ]
  },
  {
   "cell_type": "code",
   "execution_count": 2,
   "metadata": {},
   "outputs": [
    {
     "data": {
      "text/plain": [
       "{'b': 100.0, 'm': 1.5}"
      ]
     },
     "execution_count": 2,
     "metadata": {},
     "output_type": "execute_result"
    }
   ],
   "source": [
    "from linear_equations import build_regression_line\n",
    "x_values = list(map(lambda show: show['x'],shows))\n",
    "y_values = list(map(lambda show: show['y'],shows))\n",
    "regression_line = build_regression_line(x_values, y_values)\n",
    "regression_line"
   ]
  },
  {
   "cell_type": "markdown",
   "metadata": {},
   "source": [
    "We can plot our regression line as the following using the [plotting functions](https://github.com/learn-co-curriculum/evaluating-regression-lines/blob/master/graph.py) that we wrote previously:"
   ]
  },
  {
   "cell_type": "code",
   "execution_count": 3,
   "metadata": {},
   "outputs": [
    {
     "data": {
      "text/html": [
       "<script>requirejs.config({paths: { 'plotly': ['https://cdn.plot.ly/plotly-latest.min']},});if(!window.Plotly) {{require(['plotly'],function(plotly) {window.Plotly=plotly;});}}</script>"
      ],
      "text/vnd.plotly.v1+html": [
       "<script>requirejs.config({paths: { 'plotly': ['https://cdn.plot.ly/plotly-latest.min']},});if(!window.Plotly) {{require(['plotly'],function(plotly) {window.Plotly=plotly;});}}</script>"
      ]
     },
     "metadata": {},
     "output_type": "display_data"
    },
    {
     "data": {
      "text/html": [
       "<script>requirejs.config({paths: { 'plotly': ['https://cdn.plot.ly/plotly-latest.min']},});if(!window.Plotly) {{require(['plotly'],function(plotly) {window.Plotly=plotly;});}}</script>"
      ],
      "text/vnd.plotly.v1+html": [
       "<script>requirejs.config({paths: { 'plotly': ['https://cdn.plot.ly/plotly-latest.min']},});if(!window.Plotly) {{require(['plotly'],function(plotly) {window.Plotly=plotly;});}}</script>"
      ]
     },
     "metadata": {},
     "output_type": "display_data"
    },
    {
     "data": {
      "application/vnd.plotly.v1+json": {
       "data": [
        {
         "mode": "line",
         "name": "line function",
         "x": [
          0,
          100,
          200,
          400
         ],
         "y": [
          100,
          250,
          400,
          700
         ]
        },
        {
         "mode": "markers",
         "name": "data",
         "text": [],
         "x": [
          0,
          100,
          200,
          400
         ],
         "y": [
          100,
          150,
          600,
          700
         ]
        }
       ],
       "layout": {}
      },
      "text/html": [
       "<div id=\"462e4c26-4837-4928-ac54-26cbce93574d\" style=\"height: 525px; width: 100%;\" class=\"plotly-graph-div\"></div><script type=\"text/javascript\">require([\"plotly\"], function(Plotly) { window.PLOTLYENV=window.PLOTLYENV || {};window.PLOTLYENV.BASE_URL=\"https://plot.ly\";Plotly.newPlot(\"462e4c26-4837-4928-ac54-26cbce93574d\", [{\"x\": [0, 100, 200, 400], \"y\": [100.0, 250.0, 400.0, 700.0], \"mode\": \"line\", \"name\": \"line function\"}, {\"x\": [0, 100, 200, 400], \"y\": [100, 150, 600, 700], \"mode\": \"markers\", \"name\": \"data\", \"text\": []}], {}, {\"showLink\": true, \"linkText\": \"Export to plot.ly\"})});</script>"
      ],
      "text/vnd.plotly.v1+html": [
       "<div id=\"462e4c26-4837-4928-ac54-26cbce93574d\" style=\"height: 525px; width: 100%;\" class=\"plotly-graph-div\"></div><script type=\"text/javascript\">require([\"plotly\"], function(Plotly) { window.PLOTLYENV=window.PLOTLYENV || {};window.PLOTLYENV.BASE_URL=\"https://plot.ly\";Plotly.newPlot(\"462e4c26-4837-4928-ac54-26cbce93574d\", [{\"x\": [0, 100, 200, 400], \"y\": [100.0, 250.0, 400.0, 700.0], \"mode\": \"line\", \"name\": \"line function\"}, {\"x\": [0, 100, 200, 400], \"y\": [100, 150, 600, 700], \"mode\": \"markers\", \"name\": \"data\", \"text\": []}], {}, {\"showLink\": true, \"linkText\": \"Export to plot.ly\"})});</script>"
      ]
     },
     "metadata": {},
     "output_type": "display_data"
    }
   ],
   "source": [
    "from graph import m_b_trace, plot, trace_values\n",
    "from plotly.offline import iplot, init_notebook_mode\n",
    "init_notebook_mode(connected=True)\n",
    "data_trace = trace_values(x_values, y_values)\n",
    "regression_trace = m_b_trace(regression_line['m'], regression_line['b'], x_values)\n",
    "plot([regression_trace, data_trace])"
   ]
  },
  {
   "cell_type": "markdown",
   "metadata": {},
   "source": [
    "So that is what our regression line looks like.  And this 